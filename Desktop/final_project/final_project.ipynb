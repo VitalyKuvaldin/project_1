{
 "cells": [
  {
   "cell_type": "code",
   "execution_count": 1,
   "metadata": {},
   "outputs": [],
   "source": [
    "import pandas as pd\n",
    "import requests\n",
    "from urllib.parse import urlencode\n",
    "import seaborn as sns\n",
    "import matplotlib.pyplot as plt\n",
    "import numpy as np\n",
    "import datetime as dt\n",
    "from datetime import timedelta\n",
    "from operator import attrgetter\n",
    "from scipy import stats\n",
    "from scipy.stats import bootstrap\n",
    "%matplotlib inline "
   ]
  },
  {
   "cell_type": "code",
   "execution_count": 4,
   "metadata": {},
   "outputs": [],
   "source": [
    "df_groups = pd.read_csv('https://getfile.dokpub.com/yandex/get/https://disk.yandex.ru/d/UhyYx41rTt3clQ', sep=';')\n",
    "# id - id пользователя\n",
    "# grp - принадлежность пользователя к контрольной или экспериментальной группе (А – контроль, B – целевая группа) "
   ]
  },
  {
   "cell_type": "code",
   "execution_count": 54,
   "metadata": {},
   "outputs": [],
   "source": [
    "df_groups_add = pd.read_csv('https://getfile.dokpub.com/yandex/get/https://disk.yandex.ru/d/5Kxrz02m3IBUwQ')\n",
    "#  дополнительный файл с пользователями, который вам прислали спустя 2 дня после передачи данных"
   ]
  },
  {
   "cell_type": "code",
   "execution_count": 6,
   "metadata": {},
   "outputs": [],
   "source": [
    "df_active_studs = pd.read_csv('https://getfile.dokpub.com/yandex/get/https://disk.yandex.ru/d/Tbs44Bm6H_FwFQ')\n",
    "# файл с информацией о пользователях, которые зашли на платформу в дни проведения эксперимента."
   ]
  },
  {
   "cell_type": "code",
   "execution_count": 7,
   "metadata": {},
   "outputs": [],
   "source": [
    "df_checks = pd.read_csv('https://getfile.dokpub.com/yandex/get/https://disk.yandex.ru/d/pH1q-VqcxXjsVA', sep=';')\n",
    "# файл с информацией об оплатах пользователей в дни проведения эксперимента. "
   ]
  },
  {
   "cell_type": "code",
   "execution_count": 8,
   "metadata": {},
   "outputs": [
    {
     "data": {
      "text/html": [
       "<div>\n",
       "<style scoped>\n",
       "    .dataframe tbody tr th:only-of-type {\n",
       "        vertical-align: middle;\n",
       "    }\n",
       "\n",
       "    .dataframe tbody tr th {\n",
       "        vertical-align: top;\n",
       "    }\n",
       "\n",
       "    .dataframe thead th {\n",
       "        text-align: right;\n",
       "    }\n",
       "</style>\n",
       "<table border=\"1\" class=\"dataframe\">\n",
       "  <thead>\n",
       "    <tr style=\"text-align: right;\">\n",
       "      <th></th>\n",
       "      <th>id</th>\n",
       "      <th>grp</th>\n",
       "    </tr>\n",
       "  </thead>\n",
       "  <tbody>\n",
       "    <tr>\n",
       "      <th>0</th>\n",
       "      <td>1489</td>\n",
       "      <td>B</td>\n",
       "    </tr>\n",
       "    <tr>\n",
       "      <th>1</th>\n",
       "      <td>1627</td>\n",
       "      <td>A</td>\n",
       "    </tr>\n",
       "    <tr>\n",
       "      <th>2</th>\n",
       "      <td>1768</td>\n",
       "      <td>B</td>\n",
       "    </tr>\n",
       "    <tr>\n",
       "      <th>3</th>\n",
       "      <td>1783</td>\n",
       "      <td>B</td>\n",
       "    </tr>\n",
       "    <tr>\n",
       "      <th>4</th>\n",
       "      <td>1794</td>\n",
       "      <td>A</td>\n",
       "    </tr>\n",
       "  </tbody>\n",
       "</table>\n",
       "</div>"
      ],
      "text/plain": [
       "     id grp\n",
       "0  1489   B\n",
       "1  1627   A\n",
       "2  1768   B\n",
       "3  1783   B\n",
       "4  1794   A"
      ]
     },
     "execution_count": 8,
     "metadata": {},
     "output_type": "execute_result"
    }
   ],
   "source": [
    "df_groups.head()"
   ]
  },
  {
   "cell_type": "code",
   "execution_count": 9,
   "metadata": {},
   "outputs": [
    {
     "data": {
      "text/html": [
       "<div>\n",
       "<style scoped>\n",
       "    .dataframe tbody tr th:only-of-type {\n",
       "        vertical-align: middle;\n",
       "    }\n",
       "\n",
       "    .dataframe tbody tr th {\n",
       "        vertical-align: top;\n",
       "    }\n",
       "\n",
       "    .dataframe thead th {\n",
       "        text-align: right;\n",
       "    }\n",
       "</style>\n",
       "<table border=\"1\" class=\"dataframe\">\n",
       "  <thead>\n",
       "    <tr style=\"text-align: right;\">\n",
       "      <th></th>\n",
       "      <th>id</th>\n",
       "      <th>grp</th>\n",
       "    </tr>\n",
       "  </thead>\n",
       "  <tbody>\n",
       "    <tr>\n",
       "      <th>0</th>\n",
       "      <td>5694584</td>\n",
       "      <td>B</td>\n",
       "    </tr>\n",
       "    <tr>\n",
       "      <th>1</th>\n",
       "      <td>5694830</td>\n",
       "      <td>B</td>\n",
       "    </tr>\n",
       "    <tr>\n",
       "      <th>2</th>\n",
       "      <td>5695057</td>\n",
       "      <td>B</td>\n",
       "    </tr>\n",
       "    <tr>\n",
       "      <th>3</th>\n",
       "      <td>5698872</td>\n",
       "      <td>B</td>\n",
       "    </tr>\n",
       "    <tr>\n",
       "      <th>4</th>\n",
       "      <td>5699067</td>\n",
       "      <td>B</td>\n",
       "    </tr>\n",
       "    <tr>\n",
       "      <th>...</th>\n",
       "      <td>...</td>\n",
       "      <td>...</td>\n",
       "    </tr>\n",
       "    <tr>\n",
       "      <th>86</th>\n",
       "      <td>200247816</td>\n",
       "      <td>B</td>\n",
       "    </tr>\n",
       "    <tr>\n",
       "      <th>87</th>\n",
       "      <td>200247820</td>\n",
       "      <td>B</td>\n",
       "    </tr>\n",
       "    <tr>\n",
       "      <th>88</th>\n",
       "      <td>201032527</td>\n",
       "      <td>B</td>\n",
       "    </tr>\n",
       "    <tr>\n",
       "      <th>89</th>\n",
       "      <td>201067612</td>\n",
       "      <td>B</td>\n",
       "    </tr>\n",
       "    <tr>\n",
       "      <th>90</th>\n",
       "      <td>201067653</td>\n",
       "      <td>B</td>\n",
       "    </tr>\n",
       "  </tbody>\n",
       "</table>\n",
       "<p>91 rows × 2 columns</p>\n",
       "</div>"
      ],
      "text/plain": [
       "           id grp\n",
       "0     5694584   B\n",
       "1     5694830   B\n",
       "2     5695057   B\n",
       "3     5698872   B\n",
       "4     5699067   B\n",
       "..        ...  ..\n",
       "86  200247816   B\n",
       "87  200247820   B\n",
       "88  201032527   B\n",
       "89  201067612   B\n",
       "90  201067653   B\n",
       "\n",
       "[91 rows x 2 columns]"
      ]
     },
     "execution_count": 9,
     "metadata": {},
     "output_type": "execute_result"
    }
   ],
   "source": [
    "df_groups_add.head(91)"
   ]
  },
  {
   "cell_type": "code",
   "execution_count": 10,
   "metadata": {},
   "outputs": [
    {
     "data": {
      "text/html": [
       "<div>\n",
       "<style scoped>\n",
       "    .dataframe tbody tr th:only-of-type {\n",
       "        vertical-align: middle;\n",
       "    }\n",
       "\n",
       "    .dataframe tbody tr th {\n",
       "        vertical-align: top;\n",
       "    }\n",
       "\n",
       "    .dataframe thead th {\n",
       "        text-align: right;\n",
       "    }\n",
       "</style>\n",
       "<table border=\"1\" class=\"dataframe\">\n",
       "  <thead>\n",
       "    <tr style=\"text-align: right;\">\n",
       "      <th></th>\n",
       "      <th>student_id</th>\n",
       "    </tr>\n",
       "  </thead>\n",
       "  <tbody>\n",
       "    <tr>\n",
       "      <th>0</th>\n",
       "      <td>581585</td>\n",
       "    </tr>\n",
       "    <tr>\n",
       "      <th>1</th>\n",
       "      <td>5723133</td>\n",
       "    </tr>\n",
       "    <tr>\n",
       "      <th>2</th>\n",
       "      <td>3276743</td>\n",
       "    </tr>\n",
       "    <tr>\n",
       "      <th>3</th>\n",
       "      <td>4238589</td>\n",
       "    </tr>\n",
       "    <tr>\n",
       "      <th>4</th>\n",
       "      <td>4475369</td>\n",
       "    </tr>\n",
       "  </tbody>\n",
       "</table>\n",
       "</div>"
      ],
      "text/plain": [
       "   student_id\n",
       "0      581585\n",
       "1     5723133\n",
       "2     3276743\n",
       "3     4238589\n",
       "4     4475369"
      ]
     },
     "execution_count": 10,
     "metadata": {},
     "output_type": "execute_result"
    }
   ],
   "source": [
    "df_active_studs.head()"
   ]
  },
  {
   "cell_type": "code",
   "execution_count": 11,
   "metadata": {
    "scrolled": false
   },
   "outputs": [
    {
     "data": {
      "text/html": [
       "<div>\n",
       "<style scoped>\n",
       "    .dataframe tbody tr th:only-of-type {\n",
       "        vertical-align: middle;\n",
       "    }\n",
       "\n",
       "    .dataframe tbody tr th {\n",
       "        vertical-align: top;\n",
       "    }\n",
       "\n",
       "    .dataframe thead th {\n",
       "        text-align: right;\n",
       "    }\n",
       "</style>\n",
       "<table border=\"1\" class=\"dataframe\">\n",
       "  <thead>\n",
       "    <tr style=\"text-align: right;\">\n",
       "      <th></th>\n",
       "      <th>student_id</th>\n",
       "      <th>rev</th>\n",
       "    </tr>\n",
       "  </thead>\n",
       "  <tbody>\n",
       "    <tr>\n",
       "      <th>0</th>\n",
       "      <td>1627</td>\n",
       "      <td>990.0</td>\n",
       "    </tr>\n",
       "    <tr>\n",
       "      <th>1</th>\n",
       "      <td>3185</td>\n",
       "      <td>690.0</td>\n",
       "    </tr>\n",
       "    <tr>\n",
       "      <th>2</th>\n",
       "      <td>25973</td>\n",
       "      <td>690.0</td>\n",
       "    </tr>\n",
       "    <tr>\n",
       "      <th>3</th>\n",
       "      <td>26280</td>\n",
       "      <td>690.0</td>\n",
       "    </tr>\n",
       "    <tr>\n",
       "      <th>4</th>\n",
       "      <td>100300</td>\n",
       "      <td>990.0</td>\n",
       "    </tr>\n",
       "  </tbody>\n",
       "</table>\n",
       "</div>"
      ],
      "text/plain": [
       "   student_id    rev\n",
       "0        1627  990.0\n",
       "1        3185  690.0\n",
       "2       25973  690.0\n",
       "3       26280  690.0\n",
       "4      100300  990.0"
      ]
     },
     "execution_count": 11,
     "metadata": {},
     "output_type": "execute_result"
    }
   ],
   "source": [
    "df_checks.head()"
   ]
  },
  {
   "cell_type": "markdown",
   "metadata": {},
   "source": [
    "### Проверка на пропущенные значения "
   ]
  },
  {
   "cell_type": "code",
   "execution_count": 12,
   "metadata": {},
   "outputs": [
    {
     "name": "stdout",
     "output_type": "stream",
     "text": [
      "Пропущенные значения в groups:\n",
      "id     0\n",
      "grp    0\n",
      "dtype: int64\n",
      "\n",
      "Пропущенные значения в groups_add:\n",
      "id     0\n",
      "grp    0\n",
      "dtype: int64\n",
      "\n",
      "Пропущенные значения в active_studs:\n",
      "student_id    0\n",
      "dtype: int64\n",
      "\n",
      "Пропущенные значения в checks:\n",
      "student_id    0\n",
      "rev           0\n",
      "dtype: int64\n"
     ]
    }
   ],
   "source": [
    "print(\"Пропущенные значения в groups:\")\n",
    "print(df_groups.isnull().sum())\n",
    "print(\"\\nПропущенные значения в groups_add:\")\n",
    "print(df_groups_add.isnull().sum())\n",
    "print(\"\\nПропущенные значения в active_studs:\")\n",
    "print(df_active_studs.isnull().sum())\n",
    "print(\"\\nПропущенные значения в checks:\")\n",
    "print(df_checks.isnull().sum())"
   ]
  },
  {
   "cell_type": "markdown",
   "metadata": {},
   "source": [
    "### Проверка на пропущенные значения "
   ]
  },
  {
   "cell_type": "code",
   "execution_count": 13,
   "metadata": {},
   "outputs": [
    {
     "name": "stdout",
     "output_type": "stream",
     "text": [
      "\n",
      "Дубликаты в groups:\n",
      "0\n",
      "\n",
      "Дубликаты в groups_add:\n",
      "0\n",
      "\n",
      "Дубликаты в active_studs:\n",
      "0\n",
      "\n",
      "Дубликаты в checks:\n",
      "0\n"
     ]
    }
   ],
   "source": [
    "print(\"\\nДубликаты в groups:\")\n",
    "print(df_groups.duplicated().sum())\n",
    "print(\"\\nДубликаты в groups_add:\")\n",
    "print(df_groups_add.duplicated().sum())\n",
    "print(\"\\nДубликаты в active_studs:\")\n",
    "print(df_active_studs.duplicated().sum())\n",
    "print(\"\\nДубликаты в checks:\")\n",
    "print(df_checks.duplicated().sum())"
   ]
  },
  {
   "cell_type": "markdown",
   "metadata": {},
   "source": [
    "Проверка на пропущеные значения."
   ]
  },
  {
   "cell_type": "markdown",
   "metadata": {},
   "source": [
    "### Посчитаем сколько юзеров в каждой группе"
   ]
  },
  {
   "cell_type": "code",
   "execution_count": 14,
   "metadata": {},
   "outputs": [
    {
     "data": {
      "text/html": [
       "<div>\n",
       "<style scoped>\n",
       "    .dataframe tbody tr th:only-of-type {\n",
       "        vertical-align: middle;\n",
       "    }\n",
       "\n",
       "    .dataframe tbody tr th {\n",
       "        vertical-align: top;\n",
       "    }\n",
       "\n",
       "    .dataframe thead th {\n",
       "        text-align: right;\n",
       "    }\n",
       "</style>\n",
       "<table border=\"1\" class=\"dataframe\">\n",
       "  <thead>\n",
       "    <tr style=\"text-align: right;\">\n",
       "      <th></th>\n",
       "      <th>grp</th>\n",
       "      <th>count_users</th>\n",
       "    </tr>\n",
       "  </thead>\n",
       "  <tbody>\n",
       "    <tr>\n",
       "      <th>0</th>\n",
       "      <td>A</td>\n",
       "      <td>14671</td>\n",
       "    </tr>\n",
       "    <tr>\n",
       "      <th>1</th>\n",
       "      <td>B</td>\n",
       "      <td>59813</td>\n",
       "    </tr>\n",
       "  </tbody>\n",
       "</table>\n",
       "</div>"
      ],
      "text/plain": [
       "  grp  count_users\n",
       "0   A        14671\n",
       "1   B        59813"
      ]
     },
     "execution_count": 14,
     "metadata": {},
     "output_type": "execute_result"
    }
   ],
   "source": [
    "count_users = df_groups\\\n",
    "    .groupby('grp', as_index=False)\\\n",
    "    .agg({'id': 'count'})\\\n",
    "    .rename(columns={'id': 'count_users'})\n",
    "count_users"
   ]
  },
  {
   "cell_type": "code",
   "execution_count": 15,
   "metadata": {},
   "outputs": [
    {
     "name": "stdout",
     "output_type": "stream",
     "text": [
      "  grp  count_users  percentage\n",
      "0   A        14671   19.696848\n",
      "1   B        59813   80.303152\n"
     ]
    }
   ],
   "source": [
    "# Считаем общее количество пользователей\n",
    "total_users = count_users['count_users'].sum()\n",
    "\n",
    "# Добавляем новый столбец с процентами\n",
    "count_users['percentage'] = (count_users['count_users'] / total_users) * 100\n",
    "\n",
    "# Проверяем результат\n",
    "print(count_users)"
   ]
  },
  {
   "cell_type": "markdown",
   "metadata": {},
   "source": [
    "#### А - контрольная группа 14617; B - эксперементальная 59813, A = 19.69% B = 80.30%"
   ]
  },
  {
   "cell_type": "code",
   "execution_count": null,
   "metadata": {},
   "outputs": [],
   "source": []
  },
  {
   "cell_type": "code",
   "execution_count": 16,
   "metadata": {
    "scrolled": true
   },
   "outputs": [
    {
     "data": {
      "text/html": [
       "<div>\n",
       "<style scoped>\n",
       "    .dataframe tbody tr th:only-of-type {\n",
       "        vertical-align: middle;\n",
       "    }\n",
       "\n",
       "    .dataframe tbody tr th {\n",
       "        vertical-align: top;\n",
       "    }\n",
       "\n",
       "    .dataframe thead th {\n",
       "        text-align: right;\n",
       "    }\n",
       "</style>\n",
       "<table border=\"1\" class=\"dataframe\">\n",
       "  <thead>\n",
       "    <tr style=\"text-align: right;\">\n",
       "      <th></th>\n",
       "      <th>grp</th>\n",
       "      <th>count_users_add</th>\n",
       "    </tr>\n",
       "  </thead>\n",
       "  <tbody>\n",
       "    <tr>\n",
       "      <th>0</th>\n",
       "      <td>A</td>\n",
       "      <td>22</td>\n",
       "    </tr>\n",
       "    <tr>\n",
       "      <th>1</th>\n",
       "      <td>B</td>\n",
       "      <td>70</td>\n",
       "    </tr>\n",
       "  </tbody>\n",
       "</table>\n",
       "</div>"
      ],
      "text/plain": [
       "  grp  count_users_add\n",
       "0   A               22\n",
       "1   B               70"
      ]
     },
     "execution_count": 16,
     "metadata": {},
     "output_type": "execute_result"
    }
   ],
   "source": [
    "count_users_add = df_groups_add\\\n",
    "    .groupby('grp', as_index=False)\\\n",
    "    .agg({'id': 'count'})\\\n",
    "    .rename(columns={'id': 'count_users_add'})\n",
    "count_users_add\n",
    "#"
   ]
  },
  {
   "cell_type": "code",
   "execution_count": 17,
   "metadata": {},
   "outputs": [
    {
     "name": "stdout",
     "output_type": "stream",
     "text": [
      "  grp  count_users_add  percentage\n",
      "0   A               22   23.913043\n",
      "1   B               70   76.086957\n"
     ]
    }
   ],
   "source": [
    "count_users = pd.DataFrame({\n",
    "    'grp': ['A', 'B'],\n",
    "    'count_users_add': [22, 70]\n",
    "})\n",
    "\n",
    "# Считаем общее количество пользователей\n",
    "total_users = count_users['count_users_add'].sum()\n",
    "\n",
    "# Добавляем новый столбец с процентами\n",
    "count_users['percentage'] = (count_users['count_users_add'] / total_users) * 100\n",
    "\n",
    "# Проверяем результат\n",
    "print(count_users)"
   ]
  },
  {
   "cell_type": "markdown",
   "metadata": {},
   "source": [
    "#### А - контрольная группа 22; B - эксперементальная 70, A = 23.91%, B = 76.08%"
   ]
  },
  {
   "cell_type": "code",
   "execution_count": 18,
   "metadata": {},
   "outputs": [
    {
     "data": {
      "text/plain": [
       "student_id    8341\n",
       "dtype: int64"
      ]
     },
     "execution_count": 18,
     "metadata": {},
     "output_type": "execute_result"
    }
   ],
   "source": [
    "df_active_studs.count()\n",
    "#активных пользователей - 8341"
   ]
  },
  {
   "cell_type": "markdown",
   "metadata": {},
   "source": [
    "##### Активных пользователей - 8341"
   ]
  },
  {
   "cell_type": "code",
   "execution_count": null,
   "metadata": {},
   "outputs": [],
   "source": []
  },
  {
   "cell_type": "code",
   "execution_count": 19,
   "metadata": {
    "scrolled": true
   },
   "outputs": [
    {
     "name": "stdout",
     "output_type": "stream",
     "text": [
      "Количество уникальных student_id: 541\n",
      "Сумма rev: 573326.0035999999\n"
     ]
    }
   ],
   "source": [
    "# Подсчет уникальных student_id\n",
    "unique_students = df_checks['student_id'].nunique()\n",
    "print(f\"Количество уникальных student_id: {unique_students}\")\n",
    "# Подсчет суммы rev\n",
    "total_rev = df_checks['rev'].sum()\n",
    "print(f\"Сумма rev: {total_rev}\")"
   ]
  },
  {
   "cell_type": "markdown",
   "metadata": {},
   "source": [
    "#### Количество уникальных student_id: 541\n",
    "#### Сумма rev: 573326\n"
   ]
  },
  {
   "cell_type": "code",
   "execution_count": null,
   "metadata": {},
   "outputs": [],
   "source": []
  },
  {
   "cell_type": "markdown",
   "metadata": {},
   "source": [
    "### Объединим данные, чтобы получить полную картину о пользователях, их группах и оплатах."
   ]
  },
  {
   "cell_type": "code",
   "execution_count": 20,
   "metadata": {
    "scrolled": true
   },
   "outputs": [
    {
     "name": "stdout",
     "output_type": "stream",
     "text": [
      "     id grp  student_id    rev\n",
      "0  1627   A        1627  990.0\n",
      "1  2085   B        2085    NaN\n",
      "2  2215   B        2215    NaN\n",
      "3  3391   A        3391    NaN\n",
      "4  3401   B        3401    NaN\n"
     ]
    }
   ],
   "source": [
    "# Объединяем группы с активными пользователями\n",
    "active_groups = df_groups.merge(df_active_studs, left_on='id', right_on='student_id', how='inner')\n",
    "\n",
    "# Объединяем с данными об оплатах\n",
    "active_checks = active_groups.merge(df_checks, on='student_id', how='left')\n",
    "\n",
    "# Проверяем результат\n",
    "print(active_checks.head())\n"
   ]
  },
  {
   "cell_type": "code",
   "execution_count": 21,
   "metadata": {},
   "outputs": [
    {
     "data": {
      "image/png": "[encoded data removed]",
      "text/plain": [
       "<Figure size 800x500 with 1 Axes>"
      ]
     },
     "metadata": {},
     "output_type": "display_data"
    }
   ],
   "source": [
    "#Счетчик активных пользователей по группам\n",
    "plt.figure(figsize=(8, 5))\n",
    "sns.countplot(data=active_checks, x='grp', palette='Set1')\n",
    "plt.title('Количество активных пользователей по группам')\n",
    "plt.xlabel('Группа')\n",
    "plt.ylabel('Количество активных пользователей')\n",
    "plt.show()"
   ]
  },
  {
   "cell_type": "code",
   "execution_count": null,
   "metadata": {},
   "outputs": [],
   "source": []
  },
  {
   "cell_type": "code",
   "execution_count": 22,
   "metadata": {},
   "outputs": [
    {
     "name": "stdout",
     "output_type": "stream",
     "text": [
      "grp\n",
      "A     78\n",
      "B    313\n",
      "Name: student_id, dtype: int64\n"
     ]
    }
   ],
   "source": [
    "# Подсчет количества уникальных пользователей, совершивших оплату по группам\n",
    "payment_counts = active_checks[active_checks['rev'].notnull()].groupby('grp')['student_id'].nunique()\n",
    "\n",
    "# Вывод результата\n",
    "print(payment_counts)\n"
   ]
  },
  {
   "cell_type": "code",
   "execution_count": 23,
   "metadata": {},
   "outputs": [
    {
     "data": {
      "image/png": "[encoded data removed]",
      "text/plain": [
       "<Figure size 1000x600 with 1 Axes>"
      ]
     },
     "metadata": {},
     "output_type": "display_data"
    }
   ],
   "source": [
    "# Подсчет количества уникальных пользователей, совершивших оплату по группам\n",
    "payment_counts = active_checks[active_checks['rev'].notnull()].groupby('grp')['student_id'].nunique().reset_index()\n",
    "\n",
    "# Переименование столбцов для удобства\n",
    "payment_counts.columns = ['Group', 'Paying Users']\n",
    "\n",
    "# Визуализация\n",
    "plt.figure(figsize=(10, 6))\n",
    "bar_plot = sns.barplot(data=payment_counts, x='Group', y='Paying Users', palette='viridis')\n",
    "plt.title('Количество пользователей, совершивших оплату по группам')\n",
    "plt.xlabel('Группа')\n",
    "plt.ylabel('Количество платящих пользователей')\n",
    "plt.xticks(rotation=0)  # Поворот меток по оси X для лучшей читаемости\n",
    "\n",
    "# Добавление подписей на столбцы\n",
    "for p in bar_plot.patches:\n",
    "    bar_plot.annotate(f'{int(p.get_height())}', \n",
    "                      (p.get_x() + p.get_width() / 2., p.get_height()), \n",
    "                      ha='center', va='bottom', \n",
    "                      fontsize=10, color='black', \n",
    "                      xytext=(0, 5),  # Смещение подписи\n",
    "                      textcoords='offset points')\n",
    "\n",
    "plt.show()"
   ]
  },
  {
   "cell_type": "code",
   "execution_count": 24,
   "metadata": {},
   "outputs": [
    {
     "name": "stdout",
     "output_type": "stream",
     "text": [
      "  Group  Non-Paying Users\n",
      "0     A              1457\n",
      "1     B              6480\n"
     ]
    }
   ],
   "source": [
    "# Подсчет количества уникальных пользователей, не совершивших оплату по группам\n",
    "non_payment_counts = active_checks[active_checks['rev'].isnull()].groupby('grp')['student_id'].nunique().reset_index()\n",
    "\n",
    "# Переименование столбцов для удобства\n",
    "non_payment_counts.columns = ['Group', 'Non-Paying Users']\n",
    "\n",
    "# Вывод результата\n",
    "print(non_payment_counts)"
   ]
  },
  {
   "cell_type": "markdown",
   "metadata": {},
   "source": [
    "#### Количество уникальных пользователей, не совершивших оплату A = 1457, B = 6480"
   ]
  },
  {
   "cell_type": "code",
   "execution_count": 25,
   "metadata": {},
   "outputs": [
    {
     "data": {
      "image/png": "[encoded data removed]",
      "text/plain": [
       "<Figure size 1000x600 with 1 Axes>"
      ]
     },
     "metadata": {},
     "output_type": "display_data"
    }
   ],
   "source": [
    "# Подсчет количества уникальных пользователей, не совершивших оплату по группам\n",
    "non_payment_counts = active_checks[active_checks['rev'].isnull()].groupby('grp')['student_id'].nunique().reset_index()\n",
    "\n",
    "# Переименование столбцов для удобства\n",
    "non_payment_counts.columns = ['Group', 'Non-Paying Users']\n",
    "\n",
    "# Визуализация\n",
    "plt.figure(figsize=(10, 6))\n",
    "bar_plot = sns.barplot(data=non_payment_counts, x='Group', y='Non-Paying Users', palette='coolwarm')\n",
    "plt.title('Количество пользователей, не совершивших оплату по группам')\n",
    "plt.xlabel('Группа')\n",
    "plt.ylabel('Количество не платящих пользователей')\n",
    "plt.xticks(rotation=0)  # Поворот меток по оси X для лучшей читаемости\n",
    "\n",
    "# Добавление подписей на столбцы\n",
    "for p in bar_plot.patches:\n",
    "    bar_plot.annotate(f'{int(p.get_height())}', \n",
    "                      (p.get_x() + p.get_width() / 2., p.get_height()), \n",
    "                      ha='center', va='bottom', \n",
    "                      fontsize=10, color='black', \n",
    "                      xytext=(0, 5),  # Смещение подписи\n",
    "                      textcoords='offset points')\n",
    "\n",
    "plt.show()"
   ]
  },
  {
   "cell_type": "code",
   "execution_count": null,
   "metadata": {},
   "outputs": [],
   "source": []
  },
  {
   "cell_type": "code",
   "execution_count": 26,
   "metadata": {},
   "outputs": [
    {
     "name": "stdout",
     "output_type": "stream",
     "text": [
      "         id grp  student_id        rev\n",
      "0      1627   A        1627   990.0000\n",
      "10   100300   B      100300   990.0000\n",
      "12   108270   B      108270   290.0000\n",
      "246  264473   B      264473  1900.0001\n",
      "279  274352   B      274352   690.0000\n"
     ]
    }
   ],
   "source": [
    "# Создание переменной с клиентами, которые совершили оплату\n",
    "paying_clients = active_checks[active_checks['rev'].notnull()]\n",
    "\n",
    "# Вывод первых нескольких строк результата\n",
    "print(paying_clients.head())\n"
   ]
  },
  {
   "cell_type": "code",
   "execution_count": 27,
   "metadata": {
    "scrolled": true
   },
   "outputs": [
    {
     "name": "stdout",
     "output_type": "stream",
     "text": [
      "  grp  total_payments  num_clients\n",
      "0   A      72820.0000           78\n",
      "1   B     393074.0035          313\n"
     ]
    }
   ],
   "source": [
    "# Группировка по группе и подсчет суммы и количества оплат\n",
    "payment_summary = paying_clients.groupby('grp').agg(\n",
    "    total_payments=('rev', 'sum'),\n",
    "    num_clients=('student_id', 'count')\n",
    ").reset_index()\n",
    "\n",
    "# Вывод результата\n",
    "print(payment_summary)\n"
   ]
  },
  {
   "cell_type": "markdown",
   "metadata": {},
   "source": [
    "#### Сумма оплат группы A = 72820, B = 393074"
   ]
  },
  {
   "cell_type": "code",
   "execution_count": 28,
   "metadata": {},
   "outputs": [
    {
     "name": "stdout",
     "output_type": "stream",
     "text": [
      "ARPU для группы A: 933.59\n",
      "ARPU для группы B: 1255.83\n"
     ]
    }
   ],
   "source": [
    "# Данные\n",
    "total_payments_A = 72820\n",
    "paying_users_A = 78\n",
    "\n",
    "total_payments_B = 393074\n",
    "paying_users_B = 313\n",
    "\n",
    "# Расчет ARPU\n",
    "arpu_A = total_payments_A / paying_users_A\n",
    "arpu_B = total_payments_B / paying_users_B\n",
    "\n",
    "print(f\"ARPU для группы A: {arpu_A:.2f}\")\n",
    "print(f\"ARPU для группы B: {arpu_B:.2f}\")\n"
   ]
  },
  {
   "cell_type": "code",
   "execution_count": 29,
   "metadata": {},
   "outputs": [
    {
     "data": {
      "image/png": "[encoded data removed]",
      "text/plain": [
       "<Figure size 1600x600 with 2 Axes>"
      ]
     },
     "metadata": {},
     "output_type": "display_data"
    }
   ],
   "source": [
    "\n",
    "# Фильтрация клиентов, которые совершили оплату\n",
    "paying_clients = active_checks[active_checks['rev'].notnull()]\n",
    "\n",
    "# Создание DataFrame для групп A и B\n",
    "group_A = paying_clients[paying_clients['grp'] == 'A']\n",
    "group_B = paying_clients[paying_clients['grp'] == 'B']\n",
    "\n",
    "# Настройка стиля графиков\n",
    "sns.set(font_scale=1.2, rc={'figure.figsize': (16, 6)}, palette='hsv')\n",
    "\n",
    "# Создание подграфиков\n",
    "fig, axs = plt.subplots(1, 2)\n",
    "\n",
    "# Визуализация для группы A\n",
    "sns.histplot(data=group_A, x='rev', bins=range(0, int(group_A['rev'].max()) + 500, 500), \n",
    "             ax=axs[0], kde=False, color='blue', edgecolor='white')\n",
    "axs[0].set_title('Группа A')\n",
    "axs[0].set_xlabel('Сумма чека')\n",
    "axs[0].set_ylabel('Количество уникальных клиентов')\n",
    "\n",
    "# Визуализация для группы B\n",
    "sns.histplot(data=group_B, x='rev', bins=range(0, int(group_B['rev'].max()) + 500, 500), \n",
    "             ax=axs[1], kde=False, color='orange', edgecolor='white')\n",
    "axs[1].set_title('Группа B')\n",
    "axs[1].set_xlabel('Сумма чека')\n",
    "axs[1].set_ylabel('Количество уникальных клиентов')\n",
    "\n",
    "# Отображение графиков\n",
    "plt.tight_layout()\n",
    "plt.show()"
   ]
  },
  {
   "cell_type": "code",
   "execution_count": null,
   "metadata": {},
   "outputs": [],
   "source": []
  },
  {
   "cell_type": "markdown",
   "metadata": {},
   "source": [
    "#### Исследование показало, что группа B (экспериментальная) значительно превышает группу A (контрольная) по количеству пользователей и оплат."
   ]
  },
  {
   "cell_type": "markdown",
   "metadata": {},
   "source": [
    "#### Так же мы видим различия в сумме чека"
   ]
  },
  {
   "cell_type": "code",
   "execution_count": null,
   "metadata": {},
   "outputs": [],
   "source": []
  },
  {
   "cell_type": "markdown",
   "metadata": {},
   "source": [
    "### Теперь мы можем рассмотреть метрики, которые будут важны для анализа. Основные метрики могут включать:\n",
    "- **Конверсия**: доля пользователей, совершивших оплату.\n",
    "- **Средний доход на пользователя (ARPU)**: средний доход от пользователей, которые совершили оплату."
   ]
  },
  {
   "cell_type": "code",
   "execution_count": 30,
   "metadata": {},
   "outputs": [],
   "source": [
    "# Подсчет количества пользователей в каждой группе\n",
    "group_counts = active_checks.groupby('grp')['student_id'].nunique()"
   ]
  },
  {
   "cell_type": "code",
   "execution_count": 31,
   "metadata": {},
   "outputs": [],
   "source": [
    "# Подсчет количества пользователей, совершивших оплату\n",
    "payment_counts = active_checks[active_checks['rev'].notnull()].groupby('grp')['student_id'].nunique()\n"
   ]
  },
  {
   "cell_type": "code",
   "execution_count": 32,
   "metadata": {},
   "outputs": [],
   "source": [
    "# Подсчет общего дохода по группам\n",
    "total_revenue = active_checks.groupby('grp')['rev'].sum()"
   ]
  },
  {
   "cell_type": "code",
   "execution_count": 33,
   "metadata": {},
   "outputs": [],
   "source": [
    "# Подсчет конверсии\n",
    "conversion_rate = payment_counts / group_counts"
   ]
  },
  {
   "cell_type": "code",
   "execution_count": 34,
   "metadata": {},
   "outputs": [],
   "source": [
    "# Подсчет ARPU\n",
    "arpu = total_revenue / group_counts  # Общий доход делим на общее количество пользователей"
   ]
  },
  {
   "cell_type": "code",
   "execution_count": 35,
   "metadata": {},
   "outputs": [],
   "source": [
    "# Подсчет ARPPU\n",
    "arppu = total_revenue / payment_counts.replace(0, np.nan)  # Общий доход делим на количество платящих пользователей"
   ]
  },
  {
   "cell_type": "code",
   "execution_count": 36,
   "metadata": {
    "scrolled": true
   },
   "outputs": [
    {
     "name": "stdout",
     "output_type": "stream",
     "text": [
      "     User Count  Pay Count  Total Revenue        CR       ARPU        ARPPU\n",
      "grp                                                                        \n",
      "A          1535         78     72820.0000  0.050814  47.439739   933.589744\n",
      "B          6793        313    393074.0035  0.046077  57.864567  1255.827487\n"
     ]
    }
   ],
   "source": [
    "# Сводная таблица с метриками\n",
    "metrics = pd.DataFrame({\n",
    "    'User Count': group_counts,\n",
    "    'Pay Count': payment_counts,\n",
    "    'Total Revenue': total_revenue,\n",
    "    'CR': conversion_rate,\n",
    "    'ARPU': arpu,\n",
    "    'ARPPU': arppu\n",
    "})\n",
    "\n",
    "print(metrics)"
   ]
  },
  {
   "cell_type": "code",
   "execution_count": null,
   "metadata": {},
   "outputs": [],
   "source": []
  },
  {
   "cell_type": "markdown",
   "metadata": {},
   "source": [
    "#### Проверим значения на нормальность распределения Шапиро-Уилка\n",
    "\n",
    "Н0: значения распределены нормально\n",
    "H1: значения распределены ненормально"
   ]
  },
  {
   "cell_type": "code",
   "execution_count": 37,
   "metadata": {
    "scrolled": true
   },
   "outputs": [
    {
     "name": "stdout",
     "output_type": "stream",
     "text": [
      "Группа A: Статистика = 0.7353, p-значение = 0.0000\n",
      "Группа B: Статистика = 0.8552, p-значение = 0.0000\n",
      "Группа A: отклоняем нулевую гипотезу (распределение ненормально).\n",
      "Группа B: отклоняем нулевую гипотезу (распределение ненормально).\n"
     ]
    }
   ],
   "source": [
    "# Извлечение данных о платежах для каждой группы\n",
    "payments_A = active_checks[active_checks['grp'] == 'A']['rev'].dropna().values\n",
    "payments_B = active_checks[active_checks['grp'] == 'B']['rev'].dropna().values\n",
    "\n",
    "# Выполнение теста Шапиро-Уилка\n",
    "shapiro_A = stats.shapiro(payments_A)\n",
    "shapiro_B = stats.shapiro(payments_B)\n",
    "\n",
    "# Вывод результатов\n",
    "print(f\"Группа A: Статистика = {shapiro_A.statistic:.4f}, p-значение = {shapiro_A.pvalue:.4f}\")\n",
    "print(f\"Группа B: Статистика = {shapiro_B.statistic:.4f}, p-значение = {shapiro_B.pvalue:.4f}\")\n",
    "\n",
    "# Интерпретация результатов\n",
    "alpha = 0.05  # Уровень значимости\n",
    "if shapiro_A.pvalue < alpha:\n",
    "    print(\"Группа A: отклоняем нулевую гипотезу (распределение ненормально).\")\n",
    "else:\n",
    "    print(\"Группа A: не отклоняем нулевую гипотезу (распределение нормально).\")\n",
    "\n",
    "if shapiro_B.pvalue < alpha:\n",
    "    print(\"Группа B: отклоняем нулевую гипотезу (распределение ненормально).\")\n",
    "else:\n",
    "    print(\"Группа B: не отклоняем нулевую гипотезу (распределение нормально).\")"
   ]
  },
  {
   "cell_type": "code",
   "execution_count": null,
   "metadata": {},
   "outputs": [],
   "source": []
  },
  {
   "cell_type": "markdown",
   "metadata": {},
   "source": [
    "#### Распределение оплат по группам"
   ]
  },
  {
   "cell_type": "code",
   "execution_count": 38,
   "metadata": {},
   "outputs": [
    {
     "data": {
      "image/png": "[encoded data removed]",
      "text/plain": [
       "<Figure size 1000x600 with 1 Axes>"
      ]
     },
     "metadata": {},
     "output_type": "display_data"
    }
   ],
   "source": [
    "# Создаем фигуру и оси\n",
    "fig, ax = plt.subplots(figsize=(10, 6))\n",
    "\n",
    "# Создаем boxplot для сумм оплат по группам\n",
    "sns.boxplot(data=active_checks, x='rev', y='grp', palette='hot', ax=ax)\n",
    "\n",
    "# Настраиваем заголовок и метки\n",
    "ax.set_title('Распределение сумм оплат по группам')\n",
    "ax.set_xlabel('Сумма оплаты (rev)')\n",
    "ax.set_ylabel('Группа')\n",
    "\n",
    "# Показываем график\n",
    "plt.show()"
   ]
  },
  {
   "cell_type": "markdown",
   "metadata": {},
   "source": [
    "#### В оплатах видим выбросы "
   ]
  },
  {
   "cell_type": "code",
   "execution_count": null,
   "metadata": {},
   "outputs": [],
   "source": []
  },
  {
   "cell_type": "code",
   "execution_count": 39,
   "metadata": {
    "scrolled": true
   },
   "outputs": [
    {
     "data": {
      "image/png": "[encoded data removed]",
      "text/plain": [
       "<Figure size 1600x600 with 1 Axes>"
      ]
     },
     "metadata": {},
     "output_type": "display_data"
    },
    {
     "name": "stdout",
     "output_type": "stream",
     "text": [
      "Levene's test statistic: 3.0558643506726035, p-value: 0.08123509393501775\n"
     ]
    }
   ],
   "source": [
    "# Визуализация распределения\n",
    "sns.histplot(active_checks[active_checks['grp'] == 'A']['rev'].dropna(), kde=False, label='Group A', color='blue', alpha=0.5)\n",
    "sns.histplot(active_checks[active_checks['grp'] == 'B']['rev'].dropna(), kde=False, label='Group B', color='orange', alpha=0.5)\n",
    "plt.legend()\n",
    "plt.title('Distribution of Revenue by Group')\n",
    "plt.show()\n",
    "\n",
    "# Тест Левена для проверки равенства дисперсий\n",
    "from scipy.stats import levene\n",
    "\n",
    "stat, p_value_levene = levene(\n",
    "    active_checks[active_checks['grp'] == 'A']['rev'].dropna(),\n",
    "    active_checks[active_checks['grp'] == 'B']['rev'].dropna()\n",
    ")\n",
    "\n",
    "print(f\"Levene's test statistic: {stat}, p-value: {p_value_levene}\")"
   ]
  },
  {
   "cell_type": "code",
   "execution_count": 40,
   "metadata": {},
   "outputs": [],
   "source": [
    "# Визуализация количества пользователей и количества оплат"
   ]
  },
  {
   "cell_type": "code",
   "execution_count": 41,
   "metadata": {},
   "outputs": [
    {
     "data": {
      "image/png": "[encoded data removed]",
      "text/plain": [
       "<Figure size 1200x500 with 2 Axes>"
      ]
     },
     "metadata": {},
     "output_type": "display_data"
    }
   ],
   "source": [
    "# Еще раз\n",
    "# Устанавливаем стиль графиков\n",
    "sns.set(style=\"whitegrid\")\n",
    "\n",
    "# Создаем фигуру и оси\n",
    "fig, ax = plt.subplots(1, 2, figsize=(12, 5))\n",
    "\n",
    "# Визуализация количества пользователей\n",
    "sns.barplot(x=metrics.index, y='User Count', data=metrics, ax=ax[0], palette='Blues')\n",
    "ax[0].set_title('Количество пользователей в каждой группе')\n",
    "ax[0].set_ylabel('Количество пользователей')\n",
    "\n",
    "# Визуализация количества оплат\n",
    "sns.barplot(x=metrics.index, y='Pay Count', data=metrics, ax=ax[1], palette='Greens')\n",
    "ax[1].set_title('Количество оплат в каждой группе')\n",
    "ax[1].set_ylabel('Количество оплат')\n",
    "\n",
    "plt.tight_layout()\n",
    "plt.show()\n"
   ]
  },
  {
   "cell_type": "code",
   "execution_count": null,
   "metadata": {},
   "outputs": [],
   "source": []
  },
  {
   "cell_type": "code",
   "execution_count": 42,
   "metadata": {},
   "outputs": [],
   "source": [
    "# Визуализация конверсии и ARPU"
   ]
  },
  {
   "cell_type": "code",
   "execution_count": 43,
   "metadata": {
    "scrolled": true
   },
   "outputs": [
    {
     "data": {
      "image/png": "[encoded data removed]",
      "text/plain": [
       "<Figure size 1200x500 with 2 Axes>"
      ]
     },
     "metadata": {},
     "output_type": "display_data"
    }
   ],
   "source": [
    "# Создаем фигуру и оси\n",
    "fig, ax = plt.subplots(1, 2, figsize=(12, 5))\n",
    "\n",
    "# Визуализация конверсии\n",
    "sns.barplot(x=metrics.index, y='CR', data=metrics, ax=ax[0], palette='Oranges')\n",
    "ax[0].set_title('Конверсия в каждой группе')\n",
    "ax[0].set_ylabel('Конверсия')\n",
    "\n",
    "# Визуализация ARPU\n",
    "sns.barplot(x=metrics.index, y='ARPU', data=metrics, ax=ax[1], palette='Purples')\n",
    "ax[1].set_title('ARPU в каждой группе')\n",
    "ax[1].set_ylabel('ARPU')\n",
    "\n",
    "plt.tight_layout()\n",
    "plt.show()\n"
   ]
  },
  {
   "cell_type": "code",
   "execution_count": null,
   "metadata": {},
   "outputs": [],
   "source": []
  },
  {
   "cell_type": "code",
   "execution_count": 44,
   "metadata": {},
   "outputs": [],
   "source": [
    "# Визуализация всех метрик в одном графике"
   ]
  },
  {
   "cell_type": "code",
   "execution_count": 45,
   "metadata": {
    "scrolled": true
   },
   "outputs": [
    {
     "data": {
      "image/png": "[encoded data removed]",
      "text/plain": [
       "<Figure size 1000x600 with 2 Axes>"
      ]
     },
     "metadata": {},
     "output_type": "display_data"
    }
   ],
   "source": [
    "# Создаем фигуру\n",
    "fig, ax1 = plt.subplots(figsize=(10, 6))\n",
    "\n",
    "# Визуализация количества пользователей\n",
    "sns.barplot(x=metrics.index, y='User Count', data=metrics, ax=ax1, color='blue', alpha=0.6, label='User Count')\n",
    "ax1.set_ylabel('Количество пользователей', color='blue')\n",
    "ax1.tick_params(axis='y', labelcolor='blue')\n",
    "\n",
    "# Создаем второй ось для других метрик\n",
    "ax2 = ax1.twinx()\n",
    "sns.lineplot(x=metrics.index, y='CR', data=metrics, ax=ax2, color='orange', marker='o', label='CR')\n",
    "sns.lineplot(x=metrics.index, y='ARPU', data=metrics, ax=ax2, color='green', marker='o', label='ARPU')\n",
    "\n",
    "ax2.set_ylabel('Конверсия и ARPU', color='black')\n",
    "ax2.tick_params(axis='y', labelcolor='black')\n",
    "\n",
    "# Добавляем заголовок и легенду\n",
    "plt.title('Сравнение метрик по группам')\n",
    "ax1.legend(loc='upper left')\n",
    "ax2.legend(loc='upper right')\n",
    "\n",
    "plt.show()\n"
   ]
  },
  {
   "cell_type": "code",
   "execution_count": null,
   "metadata": {},
   "outputs": [],
   "source": []
  },
  {
   "cell_type": "markdown",
   "metadata": {},
   "source": [
    "#### ARPPU\n",
    "H0: ARPPU не отличаются\n",
    "H1: ARPPU отличаются"
   ]
  },
  {
   "cell_type": "code",
   "execution_count": 46,
   "metadata": {},
   "outputs": [
    {
     "name": "stdout",
     "output_type": "stream",
     "text": [
      "95% Доверительный интервал ARPPU: [-532.00972748  -94.22689246]\n",
      "Отклоняем нулевую гипотезу (ARPPU отличаются).\n"
     ]
    }
   ],
   "source": [
    "# Подсчет количества пользователей в каждой группе\n",
    "group_counts = active_checks.groupby('grp')['student_id'].nunique()\n",
    "# Подсчет количества пользователей, совершивших оплату\n",
    "payment_counts = active_checks[active_checks['rev'].notnull()].groupby('grp')['student_id'].nunique()\n",
    "# Подсчет общего дохода по группам\n",
    "total_revenue = active_checks.groupby('grp')['rev'].sum()\n",
    "\n",
    "# Подсчет ARPPU\n",
    "arppu = total_revenue / payment_counts.replace(0, np.nan)  # Общий доход делим на количество платящих пользователей\n",
    "\n",
    "# Извлечение значений ARPPU для каждой группы\n",
    "df_A_ARPPU = active_checks[active_checks['grp'] == 'A']['rev'].dropna().values\n",
    "df_B_ARPPU = active_checks[active_checks['grp'] == 'B']['rev'].dropna().values\n",
    "\n",
    "# Параметры бутстрэппинга\n",
    "num_samples = 1000  # Количество выборок bootstrap\n",
    "bootstrap_diffs = np.zeros(num_samples)  # Массив для хранения разностей\n",
    "\n",
    "# Выполняем бутстрэппинг\n",
    "for i in range(num_samples):\n",
    "    bootstrap_group1 = np.random.choice(df_A_ARPPU, size=len(df_A_ARPPU), replace=True)\n",
    "    bootstrap_group2 = np.random.choice(df_B_ARPPU, size=len(df_B_ARPPU), replace=True)\n",
    "    \n",
    "    bootstrap_diff = np.mean(bootstrap_group1) - np.mean(bootstrap_group2)\n",
    "    bootstrap_diffs[i] = bootstrap_diff\n",
    "\n",
    "# Рассчитываем доверительный интервал\n",
    "confidence_interval = np.percentile(bootstrap_diffs, [2.5, 97.5])\n",
    "\n",
    "# Вывод результатов\n",
    "print(\"95% Доверительный интервал ARPPU:\", confidence_interval)\n",
    "\n",
    "# Проверка гипотез\n",
    "if confidence_interval[0] > 0 or confidence_interval[1] < 0:\n",
    "    print(\"Отклоняем нулевую гипотезу (ARPPU отличаются).\")\n",
    "else:\n",
    "    print(\"Не отклоняем нулевую гипотезу (ARPPU не отличаются).\")"
   ]
  },
  {
   "cell_type": "code",
   "execution_count": 47,
   "metadata": {},
   "outputs": [
    {
     "data": {
      "image/png": "[encoded data removed]",
      "text/plain": [
       "<Figure size 1600x400 with 1 Axes>"
      ]
     },
     "metadata": {},
     "output_type": "display_data"
    },
    {
     "name": "stdout",
     "output_type": "stream",
     "text": [
      "95% Доверительный интервал для группы A: ConfidenceInterval(low=768.2768087312985, high=1156.685360119686)\n",
      "95% Доверительный интервал для группы B: ConfidenceInterval(low=1170.8829917153873, high=1345.6496020413988)\n"
     ]
    }
   ],
   "source": [
    "# Подсчет уникальных пользователей в каждой группе\n",
    "user_counts_by_group = active_checks.groupby('grp')['student_id'].nunique()\n",
    "# Подсчет числа пользователей, совершивших покупки\n",
    "paying_user_counts = active_checks[active_checks['rev'].notnull()].groupby('grp')['student_id'].nunique()\n",
    "# Подсчет общего дохода по группам\n",
    "group_revenue_totals = active_checks.groupby('grp')['rev'].sum()\n",
    "\n",
    "# Расчет ARPPU\n",
    "arppu_values = group_revenue_totals / paying_user_counts.replace(0, np.nan)  # Общий доход делим на количество платящих пользователей\n",
    "\n",
    "# Извлечение значений дохода для каждой группы\n",
    "revenue_A = active_checks[active_checks['grp'] == 'A']['rev'].dropna().values\n",
    "revenue_B = active_checks[active_checks['grp'] == 'B']['rev'].dropna().values\n",
    "\n",
    "# Параметры бутстрэппинга\n",
    "num_bootstrap_samples = 1000  # Количество выборок bootstrap\n",
    "bootstrap_differences = np.zeros(num_bootstrap_samples)  # Массив для хранения разностей\n",
    "\n",
    "# Выполняем бутстрэппинг\n",
    "for i in range(num_bootstrap_samples):\n",
    "    sample_A = np.random.choice(revenue_A, size=len(revenue_A), replace=True)\n",
    "    sample_B = np.random.choice(revenue_B, size=len(revenue_B), replace=True)\n",
    "    \n",
    "    difference = np.mean(sample_A) - np.mean(sample_B)\n",
    "    bootstrap_differences[i] = difference\n",
    "\n",
    "# Рассчитываем доверительный интервал\n",
    "confidence_interval = np.percentile(bootstrap_differences, [2.5, 97.5])\n",
    "\n",
    "# Создаем DataFrame для визуализации\n",
    "bootstrap_results_df = pd.DataFrame(bootstrap_differences, columns=['mean_difference'])\n",
    "\n",
    "# Визуализация бутстрэп-распределения ARPPU\n",
    "sns.set(font_scale=1, rc={'figure.figsize': (16, 4)}, palette='Wistia')\n",
    "plt.hist(bootstrap_results_df['mean_difference'], bins=50, alpha=0.7)\n",
    "plt.vlines(confidence_interval, ymin=0, ymax=max(plt.hist(bootstrap_results_df['mean_difference'], bins=50)[0]),\n",
    "           colors='red', linestyle='--', label='95% Доверительный интервал')\n",
    "plt.xlabel('Разница средних значений')\n",
    "plt.ylabel('Частота')\n",
    "plt.title(\"Бутстрап-распределение разницы средних значений ARPPU\")\n",
    "plt.legend()\n",
    "plt.show()\n",
    "\n",
    "# Рассмотрим доверительный интервал средних для группы A\n",
    "bootstrap_A_results = bootstrap((revenue_A,), np.mean, confidence_level=0.95, n_resamples=1000)\n",
    "print(\"95% Доверительный интервал для группы A:\", bootstrap_A_results.confidence_interval)\n",
    "\n",
    "# Рассмотрим доверительный интервал средних для группы B\n",
    "bootstrap_B_results = bootstrap((revenue_B,), np.mean, confidence_level=0.95, n_resamples=1000)\n",
    "print(\"95% Доверительный интервал для группы B:\", bootstrap_B_results.confidence_interval)"
   ]
  },
  {
   "cell_type": "markdown",
   "metadata": {},
   "source": [
    "####  **Статистическая значимость**:\n",
    "- 95% доверительный интервал для разницы ARPPU между группами A и B: \\( [-546.87, -94.22] \\) не пересекает ноль, что указывает на статистически значимые различия.\n",
    "- Нулевая гипотеза (H0: ARPPU не отличаются) отклоняется, что подтверждает, что ARPPU в группе B значительно выше, чем в группе A."
   ]
  },
  {
   "cell_type": "code",
   "execution_count": null,
   "metadata": {},
   "outputs": [],
   "source": []
  },
  {
   "cell_type": "code",
   "execution_count": null,
   "metadata": {},
   "outputs": [],
   "source": []
  },
  {
   "cell_type": "markdown",
   "metadata": {},
   "source": [
    "#### В данном анализе мы используем метод хи-квадрат Пирсона для проверки наличия статистически значимых различий в конверсии (CR) между двумя группами пользователей (A и B). Конверсия определялась как отношение количества платящих пользователей к общему количеству активных пользователей в каждой группе."
   ]
  },
  {
   "cell_type": "markdown",
   "metadata": {},
   "source": [
    "#### H0: CR не отличаются\n",
    "#### H1: CR отличаются"
   ]
  },
  {
   "cell_type": "code",
   "execution_count": 48,
   "metadata": {},
   "outputs": [
    {
     "name": "stdout",
     "output_type": "stream",
     "text": [
      "Таблица сопряженности:\n",
      "     Not Paying  Paying\n",
      "grp                    \n",
      "A          1457      78\n",
      "B          6480     313\n",
      "\n",
      "Хи-квадрат: 0.526607176998989\n",
      "p-значение: 0.46803677583199144\n",
      "Степени свободы: 1\n",
      "Ожидаемые частоты:\n",
      "[[1462.93167627   72.06832373]\n",
      " [6474.06832373  318.93167627]]\n",
      "Не отклоняем нулевую гипотезу (нет зависимости между группой и статусом пользователя).\n"
     ]
    }
   ],
   "source": [
    "from scipy.stats import chi2_contingency\n",
    "\n",
    "# Подсчет количества платящих и неплатящих пользователей в каждой группе\n",
    "payment_status = active_checks.groupby(['grp', active_checks['rev'].notnull()])['student_id'].nunique().unstack(fill_value=0)\n",
    "\n",
    "# Переименуем столбцы для удобства\n",
    "payment_status.columns = ['Not Paying', 'Paying']\n",
    "\n",
    "# Выводим таблицу сопряженности\n",
    "print(\"Таблица сопряженности:\")\n",
    "print(payment_status)\n",
    "\n",
    "# Выполнение теста хи-квадрат\n",
    "chi2, p, dof, expected = chi2_contingency(payment_status)\n",
    "\n",
    "# Вывод результатов\n",
    "print(f\"\\nХи-квадрат: {chi2}\")\n",
    "print(f\"p-значение: {p}\")\n",
    "print(f\"Степени свободы: {dof}\")\n",
    "print(f\"Ожидаемые частоты:\\n{expected}\")\n",
    "\n",
    "# Проверка гипотез\n",
    "alpha = 0.05\n",
    "if p < alpha:\n",
    "    print(\"Отклоняем нулевую гипотезу (есть зависимость между группой и статусом пользователя).\")\n",
    "else:\n",
    "    print(\"Не отклоняем нулевую гипотезу (нет зависимости между группой и статусом пользователя).\")"
   ]
  },
  {
   "cell_type": "markdown",
   "metadata": {},
   "source": [
    "#### - **Нет статистически значимых различий**: Мы не обнаружили статистически значимых различий в конверсии между группами A и B. Это означает, что изменения, внедренные в одной из групп, не оказали значительного влияния на поведение пользователей в отношении покупок."
   ]
  },
  {
   "cell_type": "code",
   "execution_count": null,
   "metadata": {},
   "outputs": [],
   "source": []
  },
  {
   "cell_type": "markdown",
   "metadata": {},
   "source": [
    "#  Вывод\n",
    "В результате проведенного анализа:\n",
    "1. **ARPPU**: Нулевая гипотеза о том, что ARPPU не отличаются, была отклонена. ARPPU в группе B значительно выше, чем в группе A, с 95% доверительным интервалом, не пересекающим ноль.\n",
    "2. **Конверсия (CR)**: Нулевая гипотеза о том, что CR не отличаются, не была отклонена. Статистически значимых различий в конверсии между группами A и B не обнаружено.\n",
    "### Заключение\n",
    "Новая механика оплаты услуг на сайте приводит к увеличению среднего чека (ARPPU), но не влияет на конверсию. Рекомендуется внедрить новую механику, так как она может повысить доход без негативного влияния на количество платящих пользователей."
   ]
  },
  {
   "cell_type": "code",
   "execution_count": null,
   "metadata": {},
   "outputs": [],
   "source": []
  },
  {
   "cell_type": "markdown",
   "metadata": {},
   "source": [
    "# SQL"
   ]
  },
  {
   "cell_type": "markdown",
   "metadata": {},
   "source": [
    "#### 2.1.1 Условие\n",
    "\n",
    "Образовательные курсы состоят из различных уроков, каждый из которых состоит из нескольких маленьких заданий. Каждое такое маленькое задание называется \"горошиной\".\n",
    "\n",
    "Назовём очень усердным учеником того пользователя, который хотя бы раз за текущий месяц правильно решил 20 горошин."
   ]
  },
  {
   "cell_type": "code",
   "execution_count": 49,
   "metadata": {},
   "outputs": [],
   "source": [
    "connection = {'host': 'https://clickhouse.lab.karpov.courses',\n",
    "                      'database':'default',\n",
    "                      'user':'student', \n",
    "                      'password':'dpo_python_2020'\n",
    "                     }"
   ]
  },
  {
   "cell_type": "code",
   "execution_count": 50,
   "metadata": {},
   "outputs": [
    {
     "ename": "NameError",
     "evalue": "name 'ph' is not defined",
     "output_type": "error",
     "traceback": [
      "\u001b[1;31m---------------------------------------------------------------------------\u001b[0m",
      "\u001b[1;31mNameError\u001b[0m                                 Traceback (most recent call last)",
      "Cell \u001b[1;32mIn[50], line 9\u001b[0m\n\u001b[0;32m      1\u001b[0m q \u001b[38;5;241m=\u001b[39m \u001b[38;5;124m\"\"\"\u001b[39m\n\u001b[0;32m      2\u001b[0m \u001b[38;5;124m    SELECT\u001b[39m\n\u001b[0;32m      3\u001b[0m \u001b[38;5;124m        st_id,\u001b[39m\n\u001b[1;32m   (...)\u001b[0m\n\u001b[0;32m      7\u001b[0m \u001b[38;5;124m    FROM peas \u001b[39m\n\u001b[0;32m      8\u001b[0m \u001b[38;5;124m\"\"\"\u001b[39m\n\u001b[1;32m----> 9\u001b[0m peas \u001b[38;5;241m=\u001b[39m ph\u001b[38;5;241m.\u001b[39mread_clickhouse(q, connection\u001b[38;5;241m=\u001b[39mconnection)\n",
      "\u001b[1;31mNameError\u001b[0m: name 'ph' is not defined"
     ]
    }
   ],
   "source": [
    "q = \"\"\"\n",
    "    SELECT\n",
    "        st_id,\n",
    "        toDateTime(timest) as timest,\n",
    "        correct,\n",
    "        subject\n",
    "    FROM peas \n",
    "\"\"\"\n",
    "peas = ph.read_clickhouse(q, connection=connection)"
   ]
  },
  {
   "cell_type": "code",
   "execution_count": null,
   "metadata": {},
   "outputs": [],
   "source": [
    "peas.head()"
   ]
  },
  {
   "cell_type": "code",
   "execution_count": null,
   "metadata": {
    "scrolled": true
   },
   "outputs": [],
   "source": [
    "q = \"\"\"\n",
    "    SELECT DISTINCT st_id as very_diligent_students, sum(correct)\n",
    "    FROM peas\n",
    "    GROUP BY st_id\n",
    "    HAVING sum(correct) >= 20\n",
    "    ORDER BY sum(correct)\"\"\"\n",
    "peas = ph.read_clickhouse(q, connection=connection)\n",
    "peas"
   ]
  },
  {
   "cell_type": "markdown",
   "metadata": {},
   "source": [
    "#### very_diligent_students = 136"
   ]
  },
  {
   "cell_type": "markdown",
   "metadata": {},
   "source": [
    "#### 2.2.1 Условие\n",
    "\n",
    "Образовательная платформа предлагает пройти студентам курсы по модели trial: студент может решить бесплатно лишь 30 горошин в день. Для неограниченного количества заданий в определенной дисциплине студенту необходимо приобрести полный доступ. Команда провела эксперимент, где был протестирован новый экран оплаты."
   ]
  },
  {
   "cell_type": "code",
   "execution_count": null,
   "metadata": {},
   "outputs": [],
   "source": []
  },
  {
   "cell_type": "code",
   "execution_count": null,
   "metadata": {},
   "outputs": [],
   "source": [
    "q1 = \"\"\"\n",
    "    SELECT\n",
    "        *\n",
    "    FROM studs \n",
    "\"\"\"\n",
    "studs = ph.read_clickhouse(q1, connection=connection)\n",
    "studs"
   ]
  },
  {
   "cell_type": "code",
   "execution_count": null,
   "metadata": {},
   "outputs": [],
   "source": [
    "q2 = \"\"\"\n",
    "    SELECT\n",
    "        st_id,\n",
    "        toDateTime(sale_time) AS sale_time,\n",
    "        money,\n",
    "        subject\n",
    "    FROM final_project_check \n",
    "\"\"\"\n",
    "\n",
    "\n",
    "final_project_check = ph.read_clickhouse(q2, connection=connection)\n",
    "\n",
    "\n",
    "final_project_check"
   ]
  },
  {
   "cell_type": "code",
   "execution_count": null,
   "metadata": {},
   "outputs": [],
   "source": []
  },
  {
   "cell_type": "code",
   "execution_count": null,
   "metadata": {},
   "outputs": [],
   "source": [
    "q = \"\"\"\n",
    "SELECT \n",
    "    test_grp,\n",
    "    sum(money) AS revenue,\n",
    "    uniqExact(st_id) AS count_users,\n",
    "    countIf(DISTINCT st_id, money > 0) AS count_customers,\n",
    "    countIf(DISTINCT st_id, active_stud > 10 and money > 0) AS count_active_customers,\n",
    "    countIf(DISTINCT st_id, math_active_stud >= 2 and money > 0 and subject = 'Math') AS count_math_customers,\n",
    "    round(revenue / count_users, 2) AS ARPU,\n",
    "    round(sumIf(money, active_stud > 10) / countIf(DISTINCT st_id, active_stud > 10), 2) AS ARPAU,\n",
    "    round(count_customers / count_users * 100,2) AS CR, \n",
    "    round(count_active_customers / countIf(DISTINCT st_id, active_stud >10) * 100, 2) AS CR_active,\n",
    "    round(count_math_customers / countIf(DISTINCT st_id, math_active_stud >= 2)*100, 2) AS CR_math\n",
    "FROM\n",
    "    (\n",
    "        SELECT \n",
    "            l.test_grp AS test_grp,\n",
    "            l.st_id AS st_id,\n",
    "            r.sale_time AS sale_time,\n",
    "            r.money AS money,\n",
    "            r.subject AS subject,\n",
    "            s.active_stud AS active_stud,\n",
    "            s.math_active_stud AS math_active_stud\n",
    "        FROM studs AS l\n",
    "        LEFT JOIN final_project_check AS r    \n",
    "        ON l.st_id = r.st_id  \n",
    "        LEFT JOIN \n",
    "            (SELECT \n",
    "                st_id,\n",
    "                SUM(correct) AS active_stud,\n",
    "                SUM(CASE WHEN subject = 'Math' THEN correct ELSE 0 END) AS math_active_stud\n",
    "            FROM peas  \n",
    "            GROUP BY st_id\n",
    "            ) AS s\n",
    "        ON l.st_id = s.st_id \n",
    "    )\n",
    "GROUP BY test_grp\n",
    "\"\"\"\n",
    "metrics = ph.read_clickhouse(q, connection=connection)\n",
    "metrics"
   ]
  },
  {
   "cell_type": "code",
   "execution_count": null,
   "metadata": {},
   "outputs": [],
   "source": []
  },
  {
   "cell_type": "markdown",
   "metadata": {},
   "source": [
    "### Задание 3. Python\n",
    "3.1 Задача\n",
    "\n",
    "Реализуйте функцию, которая будет автоматически подгружать информацию из дополнительного файла groups_add.csv (заголовки могут отличаться) и на основании дополнительных параметров пересчитывать метрики.\n",
    "Реализуйте функцию, которая будет строить графики по получаемым метрикам."
   ]
  },
  {
   "cell_type": "code",
   "execution_count": null,
   "metadata": {},
   "outputs": [],
   "source": []
  },
  {
   "cell_type": "code",
   "execution_count": 51,
   "metadata": {},
   "outputs": [],
   "source": [
    "import pandas as pd\n",
    "\n",
    "def update_metrics(groups, groups_add, active_studs, checks):\n",
    "    ''' \n",
    "    Функция для обновления метрик на основе дополнительных данных из groups_add.csv.\n",
    "    '''\n",
    "    # Загрузка дополнительных данных\n",
    "    groups_add = pd.read_csv(groups_add, sep=';')\n",
    "    \n",
    "    # Приведение столбцов к единому формату\n",
    "    active_studs['active'] = 1\n",
    "    active_studs = active_studs.rename(columns={'student_id': 'id'})\n",
    "    \n",
    "    # Объединение данных о группах\n",
    "    shared_group = pd.concat([groups, groups_add]).rename(columns={'grp': 'group'})\n",
    "    \n",
    "    # Объединение данных о пользователях и платежах\n",
    "    active_checks = active_studs.merge(checks.rename(columns={'student_id': 'id'}), on='id', how='left').rename(columns={'rev': 'revenue'})\n",
    "    general_file = shared_group.merge(active_checks, on='id', how='left').fillna(0)\n",
    "    \n",
    "    # Фильтрация активных пользователей\n",
    "    general_file_active = general_file.query('active == 1')\n",
    "    group_A = general_file_active.query('group == \"A\" and revenue > 0')\n",
    "    group_B = general_file_active.query('group == \"B\" and revenue > 0')\n",
    "    \n",
    "    # Расчет метрик\n",
    "    CR_A = round(group_A.id.count() / general_file_active.query('group == \"A\"').id.count() * 100, 2) if general_file_active.query('group == \"A\"').id.count() > 0 else 0\n",
    "    CR_B = round(group_B.id.count() / general_file_active.query('group == \"B\"').id.count() * 100, 2) if general_file_active.query('group == \"B\"').id.count() > 0 else 0\n",
    "    ARPPU_A = round(group_A.revenue.sum() / group_A.id.count(), 2) if group_A.id.count() > 0 else 0\n",
    "    ARPPU_B = round(group_B.revenue.sum() / group_B.id.count(), 2) if group_B.id.count() > 0 else 0\n",
    "    ARPU_A = round(CR_A * ARPPU_A / 100, 2)\n",
    "    ARPU_B = round(CR_B * ARPPU_B / 100, 2)\n",
    "    \n",
    "    # Сбор метрик в DataFrame\n",
    "    metrics = pd.DataFrame({\n",
    "        'group': ['A', 'B'], \n",
    "        'total_sum': [group_A.revenue.sum(), group_B.revenue.sum()],\n",
    "        'count_users': [general_file_active.query('group==\"A\"').id.count(),\n",
    "                        general_file_active.query('group==\"B\"').id.count()],\n",
    "        'count_customers': [group_A.id.count(), group_B.id.count()],\n",
    "        'CR': [CR_A, CR_B],\n",
    "        'ARPPU': [ARPPU_A, ARPPU_B],\n",
    "        'ARPU': [ARPU_A, ARPU_B]\n",
    "    })\n",
    "    \n",
    "    return metrics\n"
   ]
  },
  {
   "cell_type": "code",
   "execution_count": null,
   "metadata": {},
   "outputs": [],
   "source": []
  },
  {
   "cell_type": "code",
   "execution_count": 52,
   "metadata": {},
   "outputs": [],
   "source": [
    "import matplotlib.pyplot as plt\n",
    "\n",
    "def plot_metrics(metrics):\n",
    "    ''' \n",
    "    Функция для построения графиков по метрикам.\n",
    "    '''\n",
    "    metrics.set_index('group', inplace=True)\n",
    "    \n",
    "    # Построение графиков\n",
    "    fig, axes = plt.subplots(nrows=6, ncols=1, figsize=(10, 25))\n",
    "    \n",
    "    # График для total_sum\n",
    "    metrics['total_sum'].plot(kind='bar', ax=axes[0], color=['blue', 'orange'])\n",
    "    axes[0].set_title('Total Revenue by Group')\n",
    "    axes[0].set_ylabel('Total Revenue')\n",
    "    \n",
    "    # График для count_users\n",
    "    metrics['count_users'].plot(kind='bar', ax=axes[1], color=['blue', 'orange'])\n",
    "    axes[1].set_title('Count of Users by Group')\n",
    "    axes[1].set_ylabel('Count of Users')\n",
    "    \n",
    "    # График для count_customers\n",
    "    metrics['count_customers'].plot(kind='bar', ax=axes[2], color=['blue', 'orange'])\n",
    "    axes[2].set_title('Count of Customers by Group')\n",
    "    axes[2].set_ylabel('Count of Customers')\n",
    "    \n",
    "    # График для CR\n",
    "    metrics['CR'].plot(kind='bar', ax=axes[3], color=['blue', 'orange'])\n",
    "    axes[3].set_title('Conversion Rate by Group')\n",
    "    axes[3].set_ylabel('Conversion Rate (%)')\n",
    "    \n",
    "    # График для ARPPU\n",
    "    metrics['ARPPU'].plot(kind='bar', ax=axes[4], color=['blue', 'orange'])\n",
    "    axes[4].set_title('ARPPU by Group')\n",
    "    axes[4].set_ylabel('ARPPU')\n",
    "    \n",
    "    # График для ARPU\n",
    "    metrics['ARPU'].plot(kind='bar', ax=axes[5], color=['blue', 'orange'])\n",
    "    axes[5].set_title('ARPU by Group')\n",
    "    axes[5].set_ylabel('ARPU')\n",
    "    \n",
    "    plt.tight_layout()\n",
    "    plt.show()\n"
   ]
  },
  {
   "cell_type": "code",
   "execution_count": 53,
   "metadata": {},
   "outputs": [
    {
     "ename": "FileNotFoundError",
     "evalue": "[Errno 2] No such file or directory: 'Проект_2_groups.csv'",
     "output_type": "error",
     "traceback": [
      "\u001b[1;31m---------------------------------------------------------------------------\u001b[0m",
      "\u001b[1;31mFileNotFoundError\u001b[0m                         Traceback (most recent call last)",
      "Cell \u001b[1;32mIn[53], line 2\u001b[0m\n\u001b[0;32m      1\u001b[0m \u001b[38;5;66;03m# Загрузка ваших данных\u001b[39;00m\n\u001b[1;32m----> 2\u001b[0m df_groups \u001b[38;5;241m=\u001b[39m pd\u001b[38;5;241m.\u001b[39mread_csv(\u001b[38;5;124m'\u001b[39m\u001b[38;5;124mПроект_2_groups.csv\u001b[39m\u001b[38;5;124m'\u001b[39m, sep\u001b[38;5;241m=\u001b[39m\u001b[38;5;124m'\u001b[39m\u001b[38;5;124m;\u001b[39m\u001b[38;5;124m'\u001b[39m)\n\u001b[0;32m      3\u001b[0m df_groups_add_path \u001b[38;5;241m=\u001b[39m \u001b[38;5;124m'\u001b[39m\u001b[38;5;124mПроект_2_group_add.csv\u001b[39m\u001b[38;5;124m'\u001b[39m  \u001b[38;5;66;03m# Путь к дополнительному файлу\u001b[39;00m\n\u001b[0;32m      4\u001b[0m df_active_studs \u001b[38;5;241m=\u001b[39m pd\u001b[38;5;241m.\u001b[39mread_csv(\u001b[38;5;124m'\u001b[39m\u001b[38;5;124mПроект_2_active_studs.csv\u001b[39m\u001b[38;5;124m'\u001b[39m)\n",
      "File \u001b[1;32m~\\anaconda3\\Lib\\site-packages\\pandas\\util\\_decorators.py:211\u001b[0m, in \u001b[0;36mdeprecate_kwarg.<locals>._deprecate_kwarg.<locals>.wrapper\u001b[1;34m(*args, **kwargs)\u001b[0m\n\u001b[0;32m    209\u001b[0m     \u001b[38;5;28;01melse\u001b[39;00m:\n\u001b[0;32m    210\u001b[0m         kwargs[new_arg_name] \u001b[38;5;241m=\u001b[39m new_arg_value\n\u001b[1;32m--> 211\u001b[0m \u001b[38;5;28;01mreturn\u001b[39;00m func(\u001b[38;5;241m*\u001b[39margs, \u001b[38;5;241m*\u001b[39m\u001b[38;5;241m*\u001b[39mkwargs)\n",
      "File \u001b[1;32m~\\anaconda3\\Lib\\site-packages\\pandas\\util\\_decorators.py:331\u001b[0m, in \u001b[0;36mdeprecate_nonkeyword_arguments.<locals>.decorate.<locals>.wrapper\u001b[1;34m(*args, **kwargs)\u001b[0m\n\u001b[0;32m    325\u001b[0m \u001b[38;5;28;01mif\u001b[39;00m \u001b[38;5;28mlen\u001b[39m(args) \u001b[38;5;241m>\u001b[39m num_allow_args:\n\u001b[0;32m    326\u001b[0m     warnings\u001b[38;5;241m.\u001b[39mwarn(\n\u001b[0;32m    327\u001b[0m         msg\u001b[38;5;241m.\u001b[39mformat(arguments\u001b[38;5;241m=\u001b[39m_format_argument_list(allow_args)),\n\u001b[0;32m    328\u001b[0m         \u001b[38;5;167;01mFutureWarning\u001b[39;00m,\n\u001b[0;32m    329\u001b[0m         stacklevel\u001b[38;5;241m=\u001b[39mfind_stack_level(),\n\u001b[0;32m    330\u001b[0m     )\n\u001b[1;32m--> 331\u001b[0m \u001b[38;5;28;01mreturn\u001b[39;00m func(\u001b[38;5;241m*\u001b[39margs, \u001b[38;5;241m*\u001b[39m\u001b[38;5;241m*\u001b[39mkwargs)\n",
      "File \u001b[1;32m~\\anaconda3\\Lib\\site-packages\\pandas\\io\\parsers\\readers.py:950\u001b[0m, in \u001b[0;36mread_csv\u001b[1;34m(filepath_or_buffer, sep, delimiter, header, names, index_col, usecols, squeeze, prefix, mangle_dupe_cols, dtype, engine, converters, true_values, false_values, skipinitialspace, skiprows, skipfooter, nrows, na_values, keep_default_na, na_filter, verbose, skip_blank_lines, parse_dates, infer_datetime_format, keep_date_col, date_parser, dayfirst, cache_dates, iterator, chunksize, compression, thousands, decimal, lineterminator, quotechar, quoting, doublequote, escapechar, comment, encoding, encoding_errors, dialect, error_bad_lines, warn_bad_lines, on_bad_lines, delim_whitespace, low_memory, memory_map, float_precision, storage_options)\u001b[0m\n\u001b[0;32m    935\u001b[0m kwds_defaults \u001b[38;5;241m=\u001b[39m _refine_defaults_read(\n\u001b[0;32m    936\u001b[0m     dialect,\n\u001b[0;32m    937\u001b[0m     delimiter,\n\u001b[1;32m   (...)\u001b[0m\n\u001b[0;32m    946\u001b[0m     defaults\u001b[38;5;241m=\u001b[39m{\u001b[38;5;124m\"\u001b[39m\u001b[38;5;124mdelimiter\u001b[39m\u001b[38;5;124m\"\u001b[39m: \u001b[38;5;124m\"\u001b[39m\u001b[38;5;124m,\u001b[39m\u001b[38;5;124m\"\u001b[39m},\n\u001b[0;32m    947\u001b[0m )\n\u001b[0;32m    948\u001b[0m kwds\u001b[38;5;241m.\u001b[39mupdate(kwds_defaults)\n\u001b[1;32m--> 950\u001b[0m \u001b[38;5;28;01mreturn\u001b[39;00m _read(filepath_or_buffer, kwds)\n",
      "File \u001b[1;32m~\\anaconda3\\Lib\\site-packages\\pandas\\io\\parsers\\readers.py:605\u001b[0m, in \u001b[0;36m_read\u001b[1;34m(filepath_or_buffer, kwds)\u001b[0m\n\u001b[0;32m    602\u001b[0m _validate_names(kwds\u001b[38;5;241m.\u001b[39mget(\u001b[38;5;124m\"\u001b[39m\u001b[38;5;124mnames\u001b[39m\u001b[38;5;124m\"\u001b[39m, \u001b[38;5;28;01mNone\u001b[39;00m))\n\u001b[0;32m    604\u001b[0m \u001b[38;5;66;03m# Create the parser.\u001b[39;00m\n\u001b[1;32m--> 605\u001b[0m parser \u001b[38;5;241m=\u001b[39m TextFileReader(filepath_or_buffer, \u001b[38;5;241m*\u001b[39m\u001b[38;5;241m*\u001b[39mkwds)\n\u001b[0;32m    607\u001b[0m \u001b[38;5;28;01mif\u001b[39;00m chunksize \u001b[38;5;129;01mor\u001b[39;00m iterator:\n\u001b[0;32m    608\u001b[0m     \u001b[38;5;28;01mreturn\u001b[39;00m parser\n",
      "File \u001b[1;32m~\\anaconda3\\Lib\\site-packages\\pandas\\io\\parsers\\readers.py:1442\u001b[0m, in \u001b[0;36mTextFileReader.__init__\u001b[1;34m(self, f, engine, **kwds)\u001b[0m\n\u001b[0;32m   1439\u001b[0m     \u001b[38;5;28mself\u001b[39m\u001b[38;5;241m.\u001b[39moptions[\u001b[38;5;124m\"\u001b[39m\u001b[38;5;124mhas_index_names\u001b[39m\u001b[38;5;124m\"\u001b[39m] \u001b[38;5;241m=\u001b[39m kwds[\u001b[38;5;124m\"\u001b[39m\u001b[38;5;124mhas_index_names\u001b[39m\u001b[38;5;124m\"\u001b[39m]\n\u001b[0;32m   1441\u001b[0m \u001b[38;5;28mself\u001b[39m\u001b[38;5;241m.\u001b[39mhandles: IOHandles \u001b[38;5;241m|\u001b[39m \u001b[38;5;28;01mNone\u001b[39;00m \u001b[38;5;241m=\u001b[39m \u001b[38;5;28;01mNone\u001b[39;00m\n\u001b[1;32m-> 1442\u001b[0m \u001b[38;5;28mself\u001b[39m\u001b[38;5;241m.\u001b[39m_engine \u001b[38;5;241m=\u001b[39m \u001b[38;5;28mself\u001b[39m\u001b[38;5;241m.\u001b[39m_make_engine(f, \u001b[38;5;28mself\u001b[39m\u001b[38;5;241m.\u001b[39mengine)\n",
      "File \u001b[1;32m~\\anaconda3\\Lib\\site-packages\\pandas\\io\\parsers\\readers.py:1735\u001b[0m, in \u001b[0;36mTextFileReader._make_engine\u001b[1;34m(self, f, engine)\u001b[0m\n\u001b[0;32m   1733\u001b[0m     \u001b[38;5;28;01mif\u001b[39;00m \u001b[38;5;124m\"\u001b[39m\u001b[38;5;124mb\u001b[39m\u001b[38;5;124m\"\u001b[39m \u001b[38;5;129;01mnot\u001b[39;00m \u001b[38;5;129;01min\u001b[39;00m mode:\n\u001b[0;32m   1734\u001b[0m         mode \u001b[38;5;241m+\u001b[39m\u001b[38;5;241m=\u001b[39m \u001b[38;5;124m\"\u001b[39m\u001b[38;5;124mb\u001b[39m\u001b[38;5;124m\"\u001b[39m\n\u001b[1;32m-> 1735\u001b[0m \u001b[38;5;28mself\u001b[39m\u001b[38;5;241m.\u001b[39mhandles \u001b[38;5;241m=\u001b[39m get_handle(\n\u001b[0;32m   1736\u001b[0m     f,\n\u001b[0;32m   1737\u001b[0m     mode,\n\u001b[0;32m   1738\u001b[0m     encoding\u001b[38;5;241m=\u001b[39m\u001b[38;5;28mself\u001b[39m\u001b[38;5;241m.\u001b[39moptions\u001b[38;5;241m.\u001b[39mget(\u001b[38;5;124m\"\u001b[39m\u001b[38;5;124mencoding\u001b[39m\u001b[38;5;124m\"\u001b[39m, \u001b[38;5;28;01mNone\u001b[39;00m),\n\u001b[0;32m   1739\u001b[0m     compression\u001b[38;5;241m=\u001b[39m\u001b[38;5;28mself\u001b[39m\u001b[38;5;241m.\u001b[39moptions\u001b[38;5;241m.\u001b[39mget(\u001b[38;5;124m\"\u001b[39m\u001b[38;5;124mcompression\u001b[39m\u001b[38;5;124m\"\u001b[39m, \u001b[38;5;28;01mNone\u001b[39;00m),\n\u001b[0;32m   1740\u001b[0m     memory_map\u001b[38;5;241m=\u001b[39m\u001b[38;5;28mself\u001b[39m\u001b[38;5;241m.\u001b[39moptions\u001b[38;5;241m.\u001b[39mget(\u001b[38;5;124m\"\u001b[39m\u001b[38;5;124mmemory_map\u001b[39m\u001b[38;5;124m\"\u001b[39m, \u001b[38;5;28;01mFalse\u001b[39;00m),\n\u001b[0;32m   1741\u001b[0m     is_text\u001b[38;5;241m=\u001b[39mis_text,\n\u001b[0;32m   1742\u001b[0m     errors\u001b[38;5;241m=\u001b[39m\u001b[38;5;28mself\u001b[39m\u001b[38;5;241m.\u001b[39moptions\u001b[38;5;241m.\u001b[39mget(\u001b[38;5;124m\"\u001b[39m\u001b[38;5;124mencoding_errors\u001b[39m\u001b[38;5;124m\"\u001b[39m, \u001b[38;5;124m\"\u001b[39m\u001b[38;5;124mstrict\u001b[39m\u001b[38;5;124m\"\u001b[39m),\n\u001b[0;32m   1743\u001b[0m     storage_options\u001b[38;5;241m=\u001b[39m\u001b[38;5;28mself\u001b[39m\u001b[38;5;241m.\u001b[39moptions\u001b[38;5;241m.\u001b[39mget(\u001b[38;5;124m\"\u001b[39m\u001b[38;5;124mstorage_options\u001b[39m\u001b[38;5;124m\"\u001b[39m, \u001b[38;5;28;01mNone\u001b[39;00m),\n\u001b[0;32m   1744\u001b[0m )\n\u001b[0;32m   1745\u001b[0m \u001b[38;5;28;01massert\u001b[39;00m \u001b[38;5;28mself\u001b[39m\u001b[38;5;241m.\u001b[39mhandles \u001b[38;5;129;01mis\u001b[39;00m \u001b[38;5;129;01mnot\u001b[39;00m \u001b[38;5;28;01mNone\u001b[39;00m\n\u001b[0;32m   1746\u001b[0m f \u001b[38;5;241m=\u001b[39m \u001b[38;5;28mself\u001b[39m\u001b[38;5;241m.\u001b[39mhandles\u001b[38;5;241m.\u001b[39mhandle\n",
      "File \u001b[1;32m~\\anaconda3\\Lib\\site-packages\\pandas\\io\\common.py:856\u001b[0m, in \u001b[0;36mget_handle\u001b[1;34m(path_or_buf, mode, encoding, compression, memory_map, is_text, errors, storage_options)\u001b[0m\n\u001b[0;32m    851\u001b[0m \u001b[38;5;28;01melif\u001b[39;00m \u001b[38;5;28misinstance\u001b[39m(handle, \u001b[38;5;28mstr\u001b[39m):\n\u001b[0;32m    852\u001b[0m     \u001b[38;5;66;03m# Check whether the filename is to be opened in binary mode.\u001b[39;00m\n\u001b[0;32m    853\u001b[0m     \u001b[38;5;66;03m# Binary mode does not support 'encoding' and 'newline'.\u001b[39;00m\n\u001b[0;32m    854\u001b[0m     \u001b[38;5;28;01mif\u001b[39;00m ioargs\u001b[38;5;241m.\u001b[39mencoding \u001b[38;5;129;01mand\u001b[39;00m \u001b[38;5;124m\"\u001b[39m\u001b[38;5;124mb\u001b[39m\u001b[38;5;124m\"\u001b[39m \u001b[38;5;129;01mnot\u001b[39;00m \u001b[38;5;129;01min\u001b[39;00m ioargs\u001b[38;5;241m.\u001b[39mmode:\n\u001b[0;32m    855\u001b[0m         \u001b[38;5;66;03m# Encoding\u001b[39;00m\n\u001b[1;32m--> 856\u001b[0m         handle \u001b[38;5;241m=\u001b[39m \u001b[38;5;28mopen\u001b[39m(\n\u001b[0;32m    857\u001b[0m             handle,\n\u001b[0;32m    858\u001b[0m             ioargs\u001b[38;5;241m.\u001b[39mmode,\n\u001b[0;32m    859\u001b[0m             encoding\u001b[38;5;241m=\u001b[39mioargs\u001b[38;5;241m.\u001b[39mencoding,\n\u001b[0;32m    860\u001b[0m             errors\u001b[38;5;241m=\u001b[39merrors,\n\u001b[0;32m    861\u001b[0m             newline\u001b[38;5;241m=\u001b[39m\u001b[38;5;124m\"\u001b[39m\u001b[38;5;124m\"\u001b[39m,\n\u001b[0;32m    862\u001b[0m         )\n\u001b[0;32m    863\u001b[0m     \u001b[38;5;28;01melse\u001b[39;00m:\n\u001b[0;32m    864\u001b[0m         \u001b[38;5;66;03m# Binary mode\u001b[39;00m\n\u001b[0;32m    865\u001b[0m         handle \u001b[38;5;241m=\u001b[39m \u001b[38;5;28mopen\u001b[39m(handle, ioargs\u001b[38;5;241m.\u001b[39mmode)\n",
      "\u001b[1;31mFileNotFoundError\u001b[0m: [Errno 2] No such file or directory: 'Проект_2_groups.csv'"
     ]
    }
   ],
   "source": [
    "# Загрузка ваших данных\n",
    "df_groups = pd.read_csv('Проект_2_groups.csv', sep=';')\n",
    "df_groups_add_path = 'Проект_2_group_add.csv'  # Путь к дополнительному файлу\n",
    "df_active_studs = pd.read_csv('Проект_2_active_studs.csv')\n",
    "df_checks = pd.read_csv('Проект_2_checks.csv', sep=';')\n",
    "\n",
    "# Обновление метрик\n",
    "metrics_function = update_metrics(df_groups, df_groups_add_path, df_active_studs, df_checks)\n",
    "\n",
    "# Вывод метрик\n",
    "print(metrics_function)\n",
    "\n",
    "# Построение графиков\n",
    "plot_metrics(metrics_function)\n"
   ]
  },
  {
   "cell_type": "code",
   "execution_count": null,
   "metadata": {},
   "outputs": [],
   "source": []
  },
  {
   "cell_type": "code",
   "execution_count": null,
   "metadata": {},
   "outputs": [],
   "source": []
  },
  {
   "cell_type": "code",
   "execution_count": null,
   "metadata": {},
   "outputs": [],
   "source": []
  },
  {
   "cell_type": "code",
   "execution_count": null,
   "metadata": {},
   "outputs": [],
   "source": []
  },
  {
   "cell_type": "code",
   "execution_count": null,
   "metadata": {},
   "outputs": [],
   "source": []
  },
  {
   "cell_type": "code",
   "execution_count": null,
   "metadata": {},
   "outputs": [],
   "source": []
  },
  {
   "cell_type": "code",
   "execution_count": null,
   "metadata": {},
   "outputs": [],
   "source": []
  },
  {
   "cell_type": "code",
   "execution_count": null,
   "metadata": {},
   "outputs": [],
   "source": []
  },
  {
   "cell_type": "code",
   "execution_count": null,
   "metadata": {},
   "outputs": [],
   "source": []
  },
  {
   "cell_type": "code",
   "execution_count": null,
   "metadata": {},
   "outputs": [],
   "source": []
  },
  {
   "cell_type": "code",
   "execution_count": null,
   "metadata": {},
   "outputs": [],
   "source": []
  },
  {
   "cell_type": "code",
   "execution_count": null,
   "metadata": {},
   "outputs": [],
   "source": []
  },
  {
   "cell_type": "code",
   "execution_count": null,
   "metadata": {},
   "outputs": [],
   "source": []
  },
  {
   "cell_type": "code",
   "execution_count": null,
   "metadata": {},
   "outputs": [],
   "source": []
  },
  {
   "cell_type": "code",
   "execution_count": null,
   "metadata": {},
   "outputs": [],
   "source": []
  }
 ],
 "metadata": {
  "kernelspec": {
   "display_name": "Python 3 (ipykernel)",
   "language": "python",
   "name": "python3"
  },
  "language_info": {
   "codemirror_mode": {
    "name": "ipython",
    "version": 3
   },
   "file_extension": ".py",
   "mimetype": "text/x-python",
   "name": "python",
   "nbconvert_exporter": "python",
   "pygments_lexer": "ipython3",
   "version": "3.11.3"
  }
 },
 "nbformat": 4,
 "nbformat_minor": 4
}
